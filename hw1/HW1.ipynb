{
  "cells": [
    {
      "cell_type": "code",
      "execution_count": 1,
      "metadata": {
        "id": "2UCHEgmFnm56"
      },
      "outputs": [],
      "source": [
        "import numpy as np\n",
        "import pandas as pd\n",
        "import matplotlib.pyplot as plt\n",
        "from tqdm import tqdm"
      ]
    },
    {
      "cell_type": "markdown",
      "source": [
        "# LinearRegression model"
      ],
      "metadata": {
        "id": "06GOWhKRNzaz"
      }
    },
    {
      "cell_type": "code",
      "execution_count": 2,
      "metadata": {
        "id": "TsewcLvXnm5_"
      },
      "outputs": [],
      "source": [
        "# TODO\n",
        "# Implement the linear regression using gradient descent by only numpy\n",
        "\n",
        "class LinearRegression:\n",
        "    \n",
        "  def __init__(self):\n",
        "      \n",
        "    print(\"Don't cheat.\")\n",
        "    self.epoch = []\n",
        "    self.train_loss = []\n",
        "    self.weights = None\n",
        "\n",
        "  def fit(self, X, y, lr=0.001, epochs=100, batch_size=1):\n",
        "    # m 為資料筆數，n 為特徵數量\n",
        "    m, n = X.shape\n",
        "\n",
        "    # 在X右方加入一行1對應到參數theta_0\n",
        "    X_new = np.hstack([X, np.ones((m,1))])\n",
        "    y_new = y.reshape(y.shape[0], 1)\n",
        "    self.weights = np.random.randn((n+1),1)\n",
        "\n",
        "    for epoch in tqdm(range(epochs)):\n",
        "      for batch in range(len(X)//batch_size):\n",
        "        mini_batch_X = X_new[batch*batch_size:(batch+1)*batch_size]\n",
        "        mini_batch_y = y_new[batch*batch_size:(batch+1)*batch_size]\n",
        "        y_hat = self.predict(mini_batch_X)\n",
        "        gradient = (1/batch_size) * np.dot(mini_batch_X.T, (y_hat - mini_batch_y))\n",
        "        self.weights -= lr * gradient\n",
        "      if(len(X)%batch_size!=0):\n",
        "        mini_batch_X = X_new[batch*(len(X)//batch_size):]\n",
        "        mini_batch_y = y_new[batch*(len(X)//batch_size):]\n",
        "        y_hat = self.predict(mini_batch_X)\n",
        "        gradient = (1/batch_size) * np.dot(mini_batch_X.T, (y_hat - mini_batch_y))\n",
        "        self.weights -= lr * gradient\n",
        "\n",
        "      self.epoch.append(epoch)\n",
        "      self.train_loss.append(self.get_loss(X_new, y_new))\n",
        "\n",
        "  def get_loss(self, X, y):\n",
        "    y_hat = self.predict(X)\n",
        "    loss = np.mean((y_hat - y)**2)\n",
        "    return loss\n",
        "\n",
        "  def predict(self, X):\n",
        "    y_hat = X.dot(self.weights)\n",
        "    return y_hat\n",
        "              \n",
        "  def evaluate(self, X, y):\n",
        "    # m 為資料筆數，n 為特徵數量\n",
        "    m, n = X.shape\n",
        "\n",
        "    # 在X左方加入一行1對應到參數theta_0\n",
        "    X = np.hstack([X, np.ones((m, 1))])\n",
        "    y = y.reshape(y.shape[0], 1)\n",
        "\n",
        "    return self.get_loss(X, y)\n",
        "      \n",
        "  def plot_curve(self):\n",
        "    # self.epoch and self.train_loss may be helpful here.\n",
        "    plt.plot(self.epoch, self.train_loss, color='red')\n",
        "    plt.xlabel('epoch') # 設定 x 軸標題\n",
        "    plt.ylabel('MSE loss') # 設定 y 軸標題\n",
        "    plt.show()\n"
      ]
    },
    {
      "cell_type": "markdown",
      "metadata": {
        "id": "vE0LqmRdnm6B"
      },
      "source": [
        "# Load data & data pre-processing"
      ]
    },
    {
      "cell_type": "code",
      "source": [
        "from google.colab import drive\n",
        "drive.mount('/content/drive')"
      ],
      "metadata": {
        "colab": {
          "base_uri": "https://localhost:8080/"
        },
        "id": "Njsmy40IWn4C",
        "outputId": "dfd574d6-079c-48cc-9368-082d6785671c"
      },
      "execution_count": 3,
      "outputs": [
        {
          "output_type": "stream",
          "name": "stdout",
          "text": [
            "Drive already mounted at /content/drive; to attempt to forcibly remount, call drive.mount(\"/content/drive\", force_remount=True).\n"
          ]
        }
      ]
    },
    {
      "cell_type": "code",
      "execution_count": 4,
      "metadata": {
        "id": "nS5JuNtvnm6C"
      },
      "outputs": [],
      "source": [
        "df_train = pd.DataFrame(pd.read_csv(\"/content/drive/MyDrive/Pattern_Recognition/hw1/regression_train.csv\"))\n",
        "df_val   = pd.DataFrame(pd.read_csv(\"/content/drive/MyDrive/Pattern_Recognition/hw1/regression_val.csv\"))\n",
        "df_test  = pd.DataFrame(pd.read_csv(\"/content/drive/MyDrive/Pattern_Recognition/hw1/regression_test.csv\"))"
      ]
    },
    {
      "cell_type": "code",
      "execution_count": 5,
      "metadata": {
        "id": "8ZxnlaLdnm6C",
        "colab": {
          "base_uri": "https://localhost:8080/",
          "height": 206
        },
        "outputId": "02df1efc-826f-484b-ae40-005b0a527dc5"
      },
      "outputs": [
        {
          "output_type": "execute_result",
          "data": {
            "text/plain": [
              "   age     sex     bmi  children smoker     region      charges\n",
              "0   19  female  27.900         0    yes  southwest  16884.92400\n",
              "1   18    male  33.770         1     no  southeast   1725.55230\n",
              "2   28    male  33.000         3     no  southeast   4449.46200\n",
              "3   33    male  22.705         0     no  northwest  21984.47061\n",
              "4   32    male  28.880         0     no  northwest   3866.85520"
            ],
            "text/html": [
              "\n",
              "  <div id=\"df-c66dcc99-ba2a-4474-b5d3-72aeea7e6d6b\">\n",
              "    <div class=\"colab-df-container\">\n",
              "      <div>\n",
              "<style scoped>\n",
              "    .dataframe tbody tr th:only-of-type {\n",
              "        vertical-align: middle;\n",
              "    }\n",
              "\n",
              "    .dataframe tbody tr th {\n",
              "        vertical-align: top;\n",
              "    }\n",
              "\n",
              "    .dataframe thead th {\n",
              "        text-align: right;\n",
              "    }\n",
              "</style>\n",
              "<table border=\"1\" class=\"dataframe\">\n",
              "  <thead>\n",
              "    <tr style=\"text-align: right;\">\n",
              "      <th></th>\n",
              "      <th>age</th>\n",
              "      <th>sex</th>\n",
              "      <th>bmi</th>\n",
              "      <th>children</th>\n",
              "      <th>smoker</th>\n",
              "      <th>region</th>\n",
              "      <th>charges</th>\n",
              "    </tr>\n",
              "  </thead>\n",
              "  <tbody>\n",
              "    <tr>\n",
              "      <th>0</th>\n",
              "      <td>19</td>\n",
              "      <td>female</td>\n",
              "      <td>27.900</td>\n",
              "      <td>0</td>\n",
              "      <td>yes</td>\n",
              "      <td>southwest</td>\n",
              "      <td>16884.92400</td>\n",
              "    </tr>\n",
              "    <tr>\n",
              "      <th>1</th>\n",
              "      <td>18</td>\n",
              "      <td>male</td>\n",
              "      <td>33.770</td>\n",
              "      <td>1</td>\n",
              "      <td>no</td>\n",
              "      <td>southeast</td>\n",
              "      <td>1725.55230</td>\n",
              "    </tr>\n",
              "    <tr>\n",
              "      <th>2</th>\n",
              "      <td>28</td>\n",
              "      <td>male</td>\n",
              "      <td>33.000</td>\n",
              "      <td>3</td>\n",
              "      <td>no</td>\n",
              "      <td>southeast</td>\n",
              "      <td>4449.46200</td>\n",
              "    </tr>\n",
              "    <tr>\n",
              "      <th>3</th>\n",
              "      <td>33</td>\n",
              "      <td>male</td>\n",
              "      <td>22.705</td>\n",
              "      <td>0</td>\n",
              "      <td>no</td>\n",
              "      <td>northwest</td>\n",
              "      <td>21984.47061</td>\n",
              "    </tr>\n",
              "    <tr>\n",
              "      <th>4</th>\n",
              "      <td>32</td>\n",
              "      <td>male</td>\n",
              "      <td>28.880</td>\n",
              "      <td>0</td>\n",
              "      <td>no</td>\n",
              "      <td>northwest</td>\n",
              "      <td>3866.85520</td>\n",
              "    </tr>\n",
              "  </tbody>\n",
              "</table>\n",
              "</div>\n",
              "      <button class=\"colab-df-convert\" onclick=\"convertToInteractive('df-c66dcc99-ba2a-4474-b5d3-72aeea7e6d6b')\"\n",
              "              title=\"Convert this dataframe to an interactive table.\"\n",
              "              style=\"display:none;\">\n",
              "        \n",
              "  <svg xmlns=\"http://www.w3.org/2000/svg\" height=\"24px\"viewBox=\"0 0 24 24\"\n",
              "       width=\"24px\">\n",
              "    <path d=\"M0 0h24v24H0V0z\" fill=\"none\"/>\n",
              "    <path d=\"M18.56 5.44l.94 2.06.94-2.06 2.06-.94-2.06-.94-.94-2.06-.94 2.06-2.06.94zm-11 1L8.5 8.5l.94-2.06 2.06-.94-2.06-.94L8.5 2.5l-.94 2.06-2.06.94zm10 10l.94 2.06.94-2.06 2.06-.94-2.06-.94-.94-2.06-.94 2.06-2.06.94z\"/><path d=\"M17.41 7.96l-1.37-1.37c-.4-.4-.92-.59-1.43-.59-.52 0-1.04.2-1.43.59L10.3 9.45l-7.72 7.72c-.78.78-.78 2.05 0 2.83L4 21.41c.39.39.9.59 1.41.59.51 0 1.02-.2 1.41-.59l7.78-7.78 2.81-2.81c.8-.78.8-2.07 0-2.86zM5.41 20L4 18.59l7.72-7.72 1.47 1.35L5.41 20z\"/>\n",
              "  </svg>\n",
              "      </button>\n",
              "      \n",
              "  <style>\n",
              "    .colab-df-container {\n",
              "      display:flex;\n",
              "      flex-wrap:wrap;\n",
              "      gap: 12px;\n",
              "    }\n",
              "\n",
              "    .colab-df-convert {\n",
              "      background-color: #E8F0FE;\n",
              "      border: none;\n",
              "      border-radius: 50%;\n",
              "      cursor: pointer;\n",
              "      display: none;\n",
              "      fill: #1967D2;\n",
              "      height: 32px;\n",
              "      padding: 0 0 0 0;\n",
              "      width: 32px;\n",
              "    }\n",
              "\n",
              "    .colab-df-convert:hover {\n",
              "      background-color: #E2EBFA;\n",
              "      box-shadow: 0px 1px 2px rgba(60, 64, 67, 0.3), 0px 1px 3px 1px rgba(60, 64, 67, 0.15);\n",
              "      fill: #174EA6;\n",
              "    }\n",
              "\n",
              "    [theme=dark] .colab-df-convert {\n",
              "      background-color: #3B4455;\n",
              "      fill: #D2E3FC;\n",
              "    }\n",
              "\n",
              "    [theme=dark] .colab-df-convert:hover {\n",
              "      background-color: #434B5C;\n",
              "      box-shadow: 0px 1px 3px 1px rgba(0, 0, 0, 0.15);\n",
              "      filter: drop-shadow(0px 1px 2px rgba(0, 0, 0, 0.3));\n",
              "      fill: #FFFFFF;\n",
              "    }\n",
              "  </style>\n",
              "\n",
              "      <script>\n",
              "        const buttonEl =\n",
              "          document.querySelector('#df-c66dcc99-ba2a-4474-b5d3-72aeea7e6d6b button.colab-df-convert');\n",
              "        buttonEl.style.display =\n",
              "          google.colab.kernel.accessAllowed ? 'block' : 'none';\n",
              "\n",
              "        async function convertToInteractive(key) {\n",
              "          const element = document.querySelector('#df-c66dcc99-ba2a-4474-b5d3-72aeea7e6d6b');\n",
              "          const dataTable =\n",
              "            await google.colab.kernel.invokeFunction('convertToInteractive',\n",
              "                                                     [key], {});\n",
              "          if (!dataTable) return;\n",
              "\n",
              "          const docLinkHtml = 'Like what you see? Visit the ' +\n",
              "            '<a target=\"_blank\" href=https://colab.research.google.com/notebooks/data_table.ipynb>data table notebook</a>'\n",
              "            + ' to learn more about interactive tables.';\n",
              "          element.innerHTML = '';\n",
              "          dataTable['output_type'] = 'display_data';\n",
              "          await google.colab.output.renderOutput(dataTable, element);\n",
              "          const docLink = document.createElement('div');\n",
              "          docLink.innerHTML = docLinkHtml;\n",
              "          element.appendChild(docLink);\n",
              "        }\n",
              "      </script>\n",
              "    </div>\n",
              "  </div>\n",
              "  "
            ]
          },
          "metadata": {},
          "execution_count": 5
        }
      ],
      "source": [
        "df_train.head()"
      ]
    },
    {
      "cell_type": "code",
      "execution_count": 6,
      "metadata": {
        "id": "CKxM6OJSnm6D",
        "colab": {
          "base_uri": "https://localhost:8080/",
          "height": 206
        },
        "outputId": "06f3f8ac-027d-4483-9538-3336b8a3198d"
      },
      "outputs": [
        {
          "output_type": "execute_result",
          "data": {
            "text/plain": [
              "   age     sex    bmi  children smoker     region  charges\n",
              "0   33    male  30.25         0     no  southeast      NaN\n",
              "1   19  female  32.49         0    yes  northwest      NaN\n",
              "2   50    male  37.07         1     no  southeast      NaN\n",
              "3   41  female  32.60         3     no  southwest      NaN\n",
              "4   52  female  24.86         0     no  southeast      NaN"
            ],
            "text/html": [
              "\n",
              "  <div id=\"df-18d07533-e0a8-4ad4-a801-12d6fa3a75bc\">\n",
              "    <div class=\"colab-df-container\">\n",
              "      <div>\n",
              "<style scoped>\n",
              "    .dataframe tbody tr th:only-of-type {\n",
              "        vertical-align: middle;\n",
              "    }\n",
              "\n",
              "    .dataframe tbody tr th {\n",
              "        vertical-align: top;\n",
              "    }\n",
              "\n",
              "    .dataframe thead th {\n",
              "        text-align: right;\n",
              "    }\n",
              "</style>\n",
              "<table border=\"1\" class=\"dataframe\">\n",
              "  <thead>\n",
              "    <tr style=\"text-align: right;\">\n",
              "      <th></th>\n",
              "      <th>age</th>\n",
              "      <th>sex</th>\n",
              "      <th>bmi</th>\n",
              "      <th>children</th>\n",
              "      <th>smoker</th>\n",
              "      <th>region</th>\n",
              "      <th>charges</th>\n",
              "    </tr>\n",
              "  </thead>\n",
              "  <tbody>\n",
              "    <tr>\n",
              "      <th>0</th>\n",
              "      <td>33</td>\n",
              "      <td>male</td>\n",
              "      <td>30.25</td>\n",
              "      <td>0</td>\n",
              "      <td>no</td>\n",
              "      <td>southeast</td>\n",
              "      <td>NaN</td>\n",
              "    </tr>\n",
              "    <tr>\n",
              "      <th>1</th>\n",
              "      <td>19</td>\n",
              "      <td>female</td>\n",
              "      <td>32.49</td>\n",
              "      <td>0</td>\n",
              "      <td>yes</td>\n",
              "      <td>northwest</td>\n",
              "      <td>NaN</td>\n",
              "    </tr>\n",
              "    <tr>\n",
              "      <th>2</th>\n",
              "      <td>50</td>\n",
              "      <td>male</td>\n",
              "      <td>37.07</td>\n",
              "      <td>1</td>\n",
              "      <td>no</td>\n",
              "      <td>southeast</td>\n",
              "      <td>NaN</td>\n",
              "    </tr>\n",
              "    <tr>\n",
              "      <th>3</th>\n",
              "      <td>41</td>\n",
              "      <td>female</td>\n",
              "      <td>32.60</td>\n",
              "      <td>3</td>\n",
              "      <td>no</td>\n",
              "      <td>southwest</td>\n",
              "      <td>NaN</td>\n",
              "    </tr>\n",
              "    <tr>\n",
              "      <th>4</th>\n",
              "      <td>52</td>\n",
              "      <td>female</td>\n",
              "      <td>24.86</td>\n",
              "      <td>0</td>\n",
              "      <td>no</td>\n",
              "      <td>southeast</td>\n",
              "      <td>NaN</td>\n",
              "    </tr>\n",
              "  </tbody>\n",
              "</table>\n",
              "</div>\n",
              "      <button class=\"colab-df-convert\" onclick=\"convertToInteractive('df-18d07533-e0a8-4ad4-a801-12d6fa3a75bc')\"\n",
              "              title=\"Convert this dataframe to an interactive table.\"\n",
              "              style=\"display:none;\">\n",
              "        \n",
              "  <svg xmlns=\"http://www.w3.org/2000/svg\" height=\"24px\"viewBox=\"0 0 24 24\"\n",
              "       width=\"24px\">\n",
              "    <path d=\"M0 0h24v24H0V0z\" fill=\"none\"/>\n",
              "    <path d=\"M18.56 5.44l.94 2.06.94-2.06 2.06-.94-2.06-.94-.94-2.06-.94 2.06-2.06.94zm-11 1L8.5 8.5l.94-2.06 2.06-.94-2.06-.94L8.5 2.5l-.94 2.06-2.06.94zm10 10l.94 2.06.94-2.06 2.06-.94-2.06-.94-.94-2.06-.94 2.06-2.06.94z\"/><path d=\"M17.41 7.96l-1.37-1.37c-.4-.4-.92-.59-1.43-.59-.52 0-1.04.2-1.43.59L10.3 9.45l-7.72 7.72c-.78.78-.78 2.05 0 2.83L4 21.41c.39.39.9.59 1.41.59.51 0 1.02-.2 1.41-.59l7.78-7.78 2.81-2.81c.8-.78.8-2.07 0-2.86zM5.41 20L4 18.59l7.72-7.72 1.47 1.35L5.41 20z\"/>\n",
              "  </svg>\n",
              "      </button>\n",
              "      \n",
              "  <style>\n",
              "    .colab-df-container {\n",
              "      display:flex;\n",
              "      flex-wrap:wrap;\n",
              "      gap: 12px;\n",
              "    }\n",
              "\n",
              "    .colab-df-convert {\n",
              "      background-color: #E8F0FE;\n",
              "      border: none;\n",
              "      border-radius: 50%;\n",
              "      cursor: pointer;\n",
              "      display: none;\n",
              "      fill: #1967D2;\n",
              "      height: 32px;\n",
              "      padding: 0 0 0 0;\n",
              "      width: 32px;\n",
              "    }\n",
              "\n",
              "    .colab-df-convert:hover {\n",
              "      background-color: #E2EBFA;\n",
              "      box-shadow: 0px 1px 2px rgba(60, 64, 67, 0.3), 0px 1px 3px 1px rgba(60, 64, 67, 0.15);\n",
              "      fill: #174EA6;\n",
              "    }\n",
              "\n",
              "    [theme=dark] .colab-df-convert {\n",
              "      background-color: #3B4455;\n",
              "      fill: #D2E3FC;\n",
              "    }\n",
              "\n",
              "    [theme=dark] .colab-df-convert:hover {\n",
              "      background-color: #434B5C;\n",
              "      box-shadow: 0px 1px 3px 1px rgba(0, 0, 0, 0.15);\n",
              "      filter: drop-shadow(0px 1px 2px rgba(0, 0, 0, 0.3));\n",
              "      fill: #FFFFFF;\n",
              "    }\n",
              "  </style>\n",
              "\n",
              "      <script>\n",
              "        const buttonEl =\n",
              "          document.querySelector('#df-18d07533-e0a8-4ad4-a801-12d6fa3a75bc button.colab-df-convert');\n",
              "        buttonEl.style.display =\n",
              "          google.colab.kernel.accessAllowed ? 'block' : 'none';\n",
              "\n",
              "        async function convertToInteractive(key) {\n",
              "          const element = document.querySelector('#df-18d07533-e0a8-4ad4-a801-12d6fa3a75bc');\n",
              "          const dataTable =\n",
              "            await google.colab.kernel.invokeFunction('convertToInteractive',\n",
              "                                                     [key], {});\n",
              "          if (!dataTable) return;\n",
              "\n",
              "          const docLinkHtml = 'Like what you see? Visit the ' +\n",
              "            '<a target=\"_blank\" href=https://colab.research.google.com/notebooks/data_table.ipynb>data table notebook</a>'\n",
              "            + ' to learn more about interactive tables.';\n",
              "          element.innerHTML = '';\n",
              "          dataTable['output_type'] = 'display_data';\n",
              "          await google.colab.output.renderOutput(dataTable, element);\n",
              "          const docLink = document.createElement('div');\n",
              "          docLink.innerHTML = docLinkHtml;\n",
              "          element.appendChild(docLink);\n",
              "        }\n",
              "      </script>\n",
              "    </div>\n",
              "  </div>\n",
              "  "
            ]
          },
          "metadata": {},
          "execution_count": 6
        }
      ],
      "source": [
        "df_test.head()"
      ]
    },
    {
      "cell_type": "code",
      "source": [
        "df_train.info()"
      ],
      "metadata": {
        "id": "C2VQYttZohkx",
        "colab": {
          "base_uri": "https://localhost:8080/"
        },
        "outputId": "8335fcb1-9235-4c94-ebb5-c0d8095d71e5"
      },
      "execution_count": 7,
      "outputs": [
        {
          "output_type": "stream",
          "name": "stdout",
          "text": [
            "<class 'pandas.core.frame.DataFrame'>\n",
            "RangeIndex: 938 entries, 0 to 937\n",
            "Data columns (total 7 columns):\n",
            " #   Column    Non-Null Count  Dtype  \n",
            "---  ------    --------------  -----  \n",
            " 0   age       938 non-null    int64  \n",
            " 1   sex       938 non-null    object \n",
            " 2   bmi       938 non-null    float64\n",
            " 3   children  938 non-null    int64  \n",
            " 4   smoker    938 non-null    object \n",
            " 5   region    938 non-null    object \n",
            " 6   charges   938 non-null    float64\n",
            "dtypes: float64(2), int64(2), object(3)\n",
            "memory usage: 51.4+ KB\n"
          ]
        }
      ]
    },
    {
      "cell_type": "code",
      "source": [
        "# TODO\n",
        "# You may do the labelEncoder here\n",
        "\n",
        "#### For multiple features, please use the following settings.####\n",
        "# sex.female -> 0\n",
        "# sex.male -> 1\n",
        "\n",
        "# smoker.no -> 0\n",
        "# smoker.yes -> 1\n",
        "\n",
        "# region.northeast -> 0\n",
        "# region.northwest -> 1\n",
        "# region.southeast -> 2\n",
        "# region.southwest -> 3\n",
        "##################################################################\n",
        "sex_mapping = {'female': 0, 'male': 1}\n",
        "df_train['sex'] = df_train['sex'].map(sex_mapping)\n",
        "df_val['sex'] = df_val['sex'].map(sex_mapping)\n",
        "df_test['sex'] = df_test['sex'].map(sex_mapping)\n",
        "\n",
        "smoker_mapping = {'no': 0, 'yes': 1}\n",
        "df_train['smoker'] = df_train['smoker'].map(smoker_mapping)\n",
        "df_val['smoker'] = df_val['smoker'].map(smoker_mapping)\n",
        "df_test['smoker'] = df_test['smoker'].map(smoker_mapping)\n",
        "\n",
        "region_mapping = {'northeast': 0, 'northwest': 1, 'southeast': 2, 'southwest': 3}\n",
        "df_train['region'] = df_train['region'].map(region_mapping)\n",
        "df_val['region'] = df_val['region'].map(region_mapping)\n",
        "df_test['region'] = df_test['region'].map(region_mapping)\n",
        "\n",
        "# You may try different label encoding for training your own model\n"
      ],
      "metadata": {
        "id": "9wO-wPLypbzB"
      },
      "execution_count": 8,
      "outputs": []
    },
    {
      "cell_type": "markdown",
      "metadata": {
        "id": "OJj42I-0nm6F"
      },
      "source": [
        "# Single feature (using bmi)"
      ]
    },
    {
      "cell_type": "code",
      "execution_count": 9,
      "metadata": {
        "id": "yedo6qY3nm6F"
      },
      "outputs": [],
      "source": [
        "# Do not modify here\n",
        "\n",
        "x_train = df_train.drop(['charges'], axis=1)\n",
        "y_train = df_train['charges']\n",
        "x_train = x_train[['bmi']]\n",
        "\n",
        "x_val = df_val.drop(['charges'], axis=1)\n",
        "y_val = df_val['charges']\n",
        "x_val = x_val[['bmi']]\n",
        "\n",
        "x_test = df_test.drop(['charges'], axis=1)\n",
        "x_test = x_test[['bmi']]"
      ]
    },
    {
      "cell_type": "code",
      "source": [
        "# TODO\n",
        "# You may convert data to NumPy here \n",
        "x_train_np = x_train.to_numpy()\n",
        "y_train_np = y_train.to_numpy()\n",
        "x_val_np = x_val.to_numpy()\n",
        "y_val_np = y_val.to_numpy()\n",
        "x_test_np = x_test.to_numpy()"
      ],
      "metadata": {
        "id": "ObKo4RachwJ_"
      },
      "execution_count": 10,
      "outputs": []
    },
    {
      "cell_type": "code",
      "execution_count": 11,
      "metadata": {
        "id": "0ir1zYhBnm6H",
        "colab": {
          "base_uri": "https://localhost:8080/"
        },
        "outputId": "67f3a8c9-d3ba-4600-f984-9889573da33e"
      },
      "outputs": [
        {
          "output_type": "stream",
          "name": "stdout",
          "text": [
            "Don't cheat.\n"
          ]
        },
        {
          "output_type": "stream",
          "name": "stderr",
          "text": [
            "100%|██████████| 250000/250000 [00:16<00:00, 15506.35it/s]\n"
          ]
        }
      ],
      "source": [
        "batch_size = x_train_np.shape[0]\n",
        "\n",
        "# TODO\n",
        "# Tune the parameters\n",
        "# Refer to slide page 9\n",
        "lr = 0.001\n",
        "epochs = 250000\n",
        "\n",
        "linear_reg = LinearRegression()\n",
        "linear_reg.fit(x_train_np, y_train_np, lr=lr, epochs=epochs, batch_size=batch_size)"
      ]
    },
    {
      "cell_type": "code",
      "execution_count": 12,
      "metadata": {
        "id": "513GqkCdnm6H",
        "colab": {
          "base_uri": "https://localhost:8080/"
        },
        "outputId": "88d937f6-d696-48b6-e1da-bd78746f895e"
      },
      "outputs": [
        {
          "output_type": "stream",
          "name": "stdout",
          "text": [
            "Intercepts:  [1382.38620691]\n",
            "Weights:  [[380.1393524]]\n"
          ]
        }
      ],
      "source": [
        "print(\"Intercepts: \", linear_reg.weights[-1])\n",
        "print(\"Weights: \", linear_reg.weights[:-1])"
      ]
    },
    {
      "cell_type": "code",
      "execution_count": 13,
      "metadata": {
        "id": "gMtpEVnlnm6I",
        "colab": {
          "base_uri": "https://localhost:8080/"
        },
        "outputId": "c25949cb-2dbe-47da-94a0-39f5313d0915"
      },
      "outputs": [
        {
          "output_type": "stream",
          "name": "stdout",
          "text": [
            "training loss:  139562065.48425922\n"
          ]
        }
      ],
      "source": [
        "print('training loss: ', linear_reg.evaluate(x_train_np, y_train_np))"
      ]
    },
    {
      "cell_type": "code",
      "source": [
        "print('validation loss: ', linear_reg.evaluate(x_val_np, y_val_np))"
      ],
      "metadata": {
        "id": "xQ42eFmxoujI",
        "colab": {
          "base_uri": "https://localhost:8080/"
        },
        "outputId": "ea525f17-5853-4c74-f793-3c5796decf08"
      },
      "execution_count": 14,
      "outputs": [
        {
          "output_type": "stream",
          "name": "stdout",
          "text": [
            "validation loss:  136920263.51810002\n"
          ]
        }
      ]
    },
    {
      "cell_type": "code",
      "execution_count": 15,
      "metadata": {
        "id": "2aNyL15ynm6I"
      },
      "outputs": [],
      "source": [
        "m, n = x_test_np.shape\n",
        "x_test_new = np.hstack([x_test_np, np.ones((m, 1))])\n",
        "test_pred = linear_reg.predict(x_test_new)"
      ]
    },
    {
      "cell_type": "code",
      "execution_count": 16,
      "metadata": {
        "id": "wM2x8Tvmnm6J",
        "colab": {
          "base_uri": "https://localhost:8080/",
          "height": 0
        },
        "outputId": "7659b296-189e-4ed5-ae27-0e9d876ec48c"
      },
      "outputs": [
        {
          "output_type": "display_data",
          "data": {
            "text/plain": [
              "<Figure size 432x288 with 1 Axes>"
            ],
            "image/png": "[encoded data removed]"
          },
          "metadata": {
            "needs_background": "light"
          }
        }
      ],
      "source": [
        "linear_reg.plot_curve()"
      ]
    },
    {
      "cell_type": "code",
      "execution_count": 17,
      "metadata": {
        "id": "SIusBE_dnm6J",
        "colab": {
          "base_uri": "https://localhost:8080/",
          "height": 0
        },
        "outputId": "46ad4126-d2c0-44c3-bb02-24eef11d8cc5"
      },
      "outputs": [
        {
          "output_type": "display_data",
          "data": {
            "text/plain": [
              "<Figure size 432x288 with 1 Axes>"
            ],
            "image/png": "[encoded data removed]"
          },
          "metadata": {
            "needs_background": "light"
          }
        }
      ],
      "source": [
        "# Use matplotlib to plot the predicted line with the training and validation samples\n",
        "\n",
        "# TODO\n",
        "Training_samples = plt.scatter(x_train_np, y_train_np, s=4, c='m')\n",
        "Validation_samples = plt.scatter(x_val_np, y_val_np, s=4, c='orange')\n",
        "Linear_model, = plt.plot(x_test_np, test_pred, color='red')\n",
        "plt.legend(handles=[Training_samples,Validation_samples,Linear_model],\n",
        "    labels=['Training samples','Validation samples','Linear model'], loc='best')\n",
        "plt.title(\"Charges vs BMI\")\n",
        "plt.xlabel('BMI')\n",
        "plt.ylabel('Charges')\n",
        "plt.show()"
      ]
    },
    {
      "cell_type": "markdown",
      "metadata": {
        "id": "el3_fUSVnm6K"
      },
      "source": [
        "# Multiple features"
      ]
    },
    {
      "cell_type": "code",
      "execution_count": 18,
      "metadata": {
        "id": "hzijeACjnm6L"
      },
      "outputs": [],
      "source": [
        "# Do not modify here\n",
        "\n",
        "x_train = df_train.drop(['charges'], axis=1)\n",
        "y_train = df_train['charges']\n",
        "\n",
        "x_val = df_val.drop(['charges'], axis=1)\n",
        "y_val = df_val['charges']\n",
        "\n",
        "x_test = df_test.drop(['charges'], axis=1)"
      ]
    },
    {
      "cell_type": "code",
      "source": [
        "# TODO\n",
        "# You may convert data to NumPy here \n",
        "x_train_np = x_train.to_numpy()\n",
        "y_train_np = y_train.to_numpy()\n",
        "x_val_np = x_val.to_numpy()\n",
        "y_val_np = y_val.to_numpy()\n",
        "x_test_np = x_test.to_numpy()"
      ],
      "metadata": {
        "id": "vz4Qn8Umh9Gm"
      },
      "execution_count": 19,
      "outputs": []
    },
    {
      "cell_type": "code",
      "execution_count": 20,
      "metadata": {
        "id": "Ek8YAFolnm6M",
        "colab": {
          "base_uri": "https://localhost:8080/"
        },
        "outputId": "8eb0c9a3-ebed-4fb7-ac9e-265df1c4b087"
      },
      "outputs": [
        {
          "output_type": "stream",
          "name": "stdout",
          "text": [
            "Don't cheat.\n"
          ]
        },
        {
          "output_type": "stream",
          "name": "stderr",
          "text": [
            "100%|██████████| 2750000/2750000 [01:34<00:00, 29079.38it/s]\n"
          ]
        }
      ],
      "source": [
        "batch_size = x_train_np.shape[0]\n",
        "\n",
        "# TODO\n",
        "# Tune the parameters\n",
        "# Refer to slide page 10\n",
        "lr = 0.0001\n",
        "epochs = 2750000\n",
        "\n",
        "linear_reg = LinearRegression()\n",
        "linear_reg.fit(x_train_np, y_train_np, lr=lr, epochs=epochs, batch_size=batch_size)"
      ]
    },
    {
      "cell_type": "code",
      "execution_count": 21,
      "metadata": {
        "id": "77bKB1JKnm6M",
        "colab": {
          "base_uri": "https://localhost:8080/"
        },
        "outputId": "eba1b393-40a5-474e-e7ea-1202e6d518e6"
      },
      "outputs": [
        {
          "output_type": "stream",
          "name": "stdout",
          "text": [
            "Intercepts:  [-11852.09686324]\n",
            "Weights:  [[  259.82767252]\n",
            " [ -383.8650082 ]\n",
            " [  333.220426  ]\n",
            " [  442.47569975]\n",
            " [24032.01547707]\n",
            " [ -416.10961229]]\n"
          ]
        }
      ],
      "source": [
        "print(\"Intercepts: \", linear_reg.weights[-1])\n",
        "print(\"Weights: \", linear_reg.weights[:-1])"
      ]
    },
    {
      "cell_type": "code",
      "execution_count": 22,
      "metadata": {
        "id": "v3bZe5XVnm6N",
        "colab": {
          "base_uri": "https://localhost:8080/"
        },
        "outputId": "e57adb84-72bf-478f-c037-75db2bbd52ce"
      },
      "outputs": [
        {
          "output_type": "stream",
          "name": "stdout",
          "text": [
            "training loss:  34697170.961008765\n"
          ]
        }
      ],
      "source": [
        "print('training loss: ', linear_reg.evaluate(x_train_np, y_train_np))"
      ]
    },
    {
      "cell_type": "code",
      "source": [
        "print('validation loss: ', linear_reg.evaluate(x_val_np, y_val_np))"
      ],
      "metadata": {
        "id": "MgnD2yXVo-67",
        "colab": {
          "base_uri": "https://localhost:8080/"
        },
        "outputId": "02995f69-f267-49f5-e260-9eecffbb7fa2"
      },
      "execution_count": 23,
      "outputs": [
        {
          "output_type": "stream",
          "name": "stdout",
          "text": [
            "validation loss:  41958207.374868214\n"
          ]
        }
      ]
    },
    {
      "cell_type": "code",
      "execution_count": 24,
      "metadata": {
        "id": "L1dVgl2unm6N"
      },
      "outputs": [],
      "source": [
        "m, n = x_test_np.shape\n",
        "x_test_new = np.hstack([x_test_np, np.ones((m, 1))])\n",
        "test_pred = linear_reg.predict(x_test_new)"
      ]
    },
    {
      "cell_type": "code",
      "execution_count": 25,
      "metadata": {
        "id": "Js0IK_Blnm6O",
        "colab": {
          "base_uri": "https://localhost:8080/",
          "height": 0
        },
        "outputId": "e0c2a2e4-c032-4ac5-a970-7fef23ccb0e3"
      },
      "outputs": [
        {
          "output_type": "display_data",
          "data": {
            "text/plain": [
              "<Figure size 432x288 with 1 Axes>"
            ],
            "image/png": "[encoded data removed]"
          },
          "metadata": {
            "needs_background": "light"
          }
        }
      ],
      "source": [
        "linear_reg.plot_curve()"
      ]
    },
    {
      "cell_type": "markdown",
      "source": [
        "# Feature extract"
      ],
      "metadata": {
        "id": "F8kkGMQx-vVF"
      }
    },
    {
      "cell_type": "code",
      "source": [
        "from google.colab import drive\n",
        "drive.mount('/content/drive')\n",
        "df_train = pd.DataFrame(pd.read_csv(\"/content/drive/MyDrive/Pattern_Recognition/hw1/regression_train.csv\"))\n",
        "df_val   = pd.DataFrame(pd.read_csv(\"/content/drive/MyDrive/Pattern_Recognition/hw1/regression_val.csv\"))\n",
        "df_test  = pd.DataFrame(pd.read_csv(\"/content/drive/MyDrive/Pattern_Recognition/hw1/regression_test.csv\"))"
      ],
      "metadata": {
        "colab": {
          "base_uri": "https://localhost:8080/"
        },
        "id": "4Y2MIlOFfQnN",
        "outputId": "0d10fc8c-8f5b-4efa-bb94-a2d2b9428e1e"
      },
      "execution_count": 26,
      "outputs": [
        {
          "output_type": "stream",
          "name": "stdout",
          "text": [
            "Drive already mounted at /content/drive; to attempt to forcibly remount, call drive.mount(\"/content/drive\", force_remount=True).\n"
          ]
        }
      ]
    },
    {
      "cell_type": "code",
      "source": [
        "sex_mapping = {'female': 0, 'male': 1}\n",
        "df_train['sex'] = df_train['sex'].map(sex_mapping)\n",
        "df_val['sex'] = df_val['sex'].map(sex_mapping)\n",
        "df_test['sex'] = df_test['sex'].map(sex_mapping)\n",
        "\n",
        "smoker_mapping = {'no': 0, 'yes': 1}\n",
        "df_train['smoker'] = df_train['smoker'].map(smoker_mapping)\n",
        "df_val['smoker'] = df_val['smoker'].map(smoker_mapping)\n",
        "df_test['smoker'] = df_test['smoker'].map(smoker_mapping)\n",
        "\n",
        "df_train = pd.get_dummies(df_train, columns=['region'])\n",
        "df_val = pd.get_dummies(df_val, columns=['region'])\n",
        "df_test = pd.get_dummies(df_test, columns=['region'])"
      ],
      "metadata": {
        "id": "ejpJHsK5QkFX"
      },
      "execution_count": 27,
      "outputs": []
    },
    {
      "cell_type": "code",
      "source": [
        "# normalized\n",
        "df_train['age'] = (df_train['age'] - df_train['age'].mean()) / df_train['age'].std()\n",
        "df_train['bmi'] = (df_train['bmi'] - df_train['bmi'].mean()) / df_train['bmi'].std()\n",
        "\n",
        "df_val['age'] = (df_val['age'] - df_val['age'].mean()) / df_val['age'].std()\n",
        "df_val['bmi'] = (df_val['bmi'] - df_val['bmi'].mean()) / df_val['bmi'].std()\n",
        "\n",
        "df_test['age'] = (df_test['age'] - df_test['age'].mean()) / df_test['age'].std()\n",
        "df_test['bmi'] = (df_test['bmi'] - df_test['bmi'].mean()) / df_test['bmi'].std()"
      ],
      "metadata": {
        "id": "U8y1jB6n7H23"
      },
      "execution_count": 28,
      "outputs": []
    },
    {
      "cell_type": "code",
      "source": [
        "poly_list = ['age','sex','bmi','children','smoker']\n",
        "for i in range(len(poly_list)):\n",
        "  for j in range(i, len(poly_list)):\n",
        "    poly_name = poly_list[i]+'*'+poly_list[j]\n",
        "    df_train[poly_name] = df_train[poly_list[i]] * df_train[poly_list[j]]\n",
        "    df_val[poly_name] = df_val[poly_list[i]] * df_val[poly_list[j]]\n",
        "    df_test[poly_name] = df_test[poly_list[i]] * df_test[poly_list[j]]"
      ],
      "metadata": {
        "id": "bD1P__Lq3xXL"
      },
      "execution_count": 29,
      "outputs": []
    },
    {
      "cell_type": "code",
      "source": [
        "df_train.head()"
      ],
      "metadata": {
        "colab": {
          "base_uri": "https://localhost:8080/",
          "height": 299
        },
        "id": "JlRSG7hffwvm",
        "outputId": "50419821-61c4-499e-9ecb-aa36f93a9f7b"
      },
      "execution_count": 30,
      "outputs": [
        {
          "output_type": "execute_result",
          "data": {
            "text/plain": [
              "        age  sex       bmi  children  smoker      charges  region_northeast  \\\n",
              "0 -1.455610    0 -0.498909         0       1  16884.92400                 0   \n",
              "1 -1.525780    1  0.476726         1       0   1725.55230                 0   \n",
              "2 -0.824083    1  0.348747         3       0   4449.46200                 0   \n",
              "3 -0.473234    1 -1.362354         0       0  21984.47061                 0   \n",
              "4 -0.543404    1 -0.336026         0       0   3866.85520                 0   \n",
              "\n",
              "   region_northwest  region_southeast  region_southwest  ...  sex*sex  \\\n",
              "0                 0                 0                 1  ...        0   \n",
              "1                 0                 1                 0  ...        1   \n",
              "2                 0                 1                 0  ...        1   \n",
              "3                 1                 0                 0  ...        1   \n",
              "4                 1                 0                 0  ...        1   \n",
              "\n",
              "    sex*bmi  sex*children  sex*smoker   bmi*bmi  bmi*children  bmi*smoker  \\\n",
              "0 -0.000000             0           0  0.248910     -0.000000   -0.498909   \n",
              "1  0.476726             1           0  0.227268      0.476726    0.000000   \n",
              "2  0.348747             3           0  0.121624      1.046240    0.000000   \n",
              "3 -1.362354             0           0  1.856008     -0.000000   -0.000000   \n",
              "4 -0.336026             0           0  0.112913     -0.000000   -0.000000   \n",
              "\n",
              "   children*children  children*smoker  smoker*smoker  \n",
              "0                  0                0              1  \n",
              "1                  1                0              0  \n",
              "2                  9                0              0  \n",
              "3                  0                0              0  \n",
              "4                  0                0              0  \n",
              "\n",
              "[5 rows x 25 columns]"
            ],
            "text/html": [
              "\n",
              "  <div id=\"df-6e6a26f3-3cd0-4dca-b57a-2ee58778112b\">\n",
              "    <div class=\"colab-df-container\">\n",
              "      <div>\n",
              "<style scoped>\n",
              "    .dataframe tbody tr th:only-of-type {\n",
              "        vertical-align: middle;\n",
              "    }\n",
              "\n",
              "    .dataframe tbody tr th {\n",
              "        vertical-align: top;\n",
              "    }\n",
              "\n",
              "    .dataframe thead th {\n",
              "        text-align: right;\n",
              "    }\n",
              "</style>\n",
              "<table border=\"1\" class=\"dataframe\">\n",
              "  <thead>\n",
              "    <tr style=\"text-align: right;\">\n",
              "      <th></th>\n",
              "      <th>age</th>\n",
              "      <th>sex</th>\n",
              "      <th>bmi</th>\n",
              "      <th>children</th>\n",
              "      <th>smoker</th>\n",
              "      <th>charges</th>\n",
              "      <th>region_northeast</th>\n",
              "      <th>region_northwest</th>\n",
              "      <th>region_southeast</th>\n",
              "      <th>region_southwest</th>\n",
              "      <th>...</th>\n",
              "      <th>sex*sex</th>\n",
              "      <th>sex*bmi</th>\n",
              "      <th>sex*children</th>\n",
              "      <th>sex*smoker</th>\n",
              "      <th>bmi*bmi</th>\n",
              "      <th>bmi*children</th>\n",
              "      <th>bmi*smoker</th>\n",
              "      <th>children*children</th>\n",
              "      <th>children*smoker</th>\n",
              "      <th>smoker*smoker</th>\n",
              "    </tr>\n",
              "  </thead>\n",
              "  <tbody>\n",
              "    <tr>\n",
              "      <th>0</th>\n",
              "      <td>-1.455610</td>\n",
              "      <td>0</td>\n",
              "      <td>-0.498909</td>\n",
              "      <td>0</td>\n",
              "      <td>1</td>\n",
              "      <td>16884.92400</td>\n",
              "      <td>0</td>\n",
              "      <td>0</td>\n",
              "      <td>0</td>\n",
              "      <td>1</td>\n",
              "      <td>...</td>\n",
              "      <td>0</td>\n",
              "      <td>-0.000000</td>\n",
              "      <td>0</td>\n",
              "      <td>0</td>\n",
              "      <td>0.248910</td>\n",
              "      <td>-0.000000</td>\n",
              "      <td>-0.498909</td>\n",
              "      <td>0</td>\n",
              "      <td>0</td>\n",
              "      <td>1</td>\n",
              "    </tr>\n",
              "    <tr>\n",
              "      <th>1</th>\n",
              "      <td>-1.525780</td>\n",
              "      <td>1</td>\n",
              "      <td>0.476726</td>\n",
              "      <td>1</td>\n",
              "      <td>0</td>\n",
              "      <td>1725.55230</td>\n",
              "      <td>0</td>\n",
              "      <td>0</td>\n",
              "      <td>1</td>\n",
              "      <td>0</td>\n",
              "      <td>...</td>\n",
              "      <td>1</td>\n",
              "      <td>0.476726</td>\n",
              "      <td>1</td>\n",
              "      <td>0</td>\n",
              "      <td>0.227268</td>\n",
              "      <td>0.476726</td>\n",
              "      <td>0.000000</td>\n",
              "      <td>1</td>\n",
              "      <td>0</td>\n",
              "      <td>0</td>\n",
              "    </tr>\n",
              "    <tr>\n",
              "      <th>2</th>\n",
              "      <td>-0.824083</td>\n",
              "      <td>1</td>\n",
              "      <td>0.348747</td>\n",
              "      <td>3</td>\n",
              "      <td>0</td>\n",
              "      <td>4449.46200</td>\n",
              "      <td>0</td>\n",
              "      <td>0</td>\n",
              "      <td>1</td>\n",
              "      <td>0</td>\n",
              "      <td>...</td>\n",
              "      <td>1</td>\n",
              "      <td>0.348747</td>\n",
              "      <td>3</td>\n",
              "      <td>0</td>\n",
              "      <td>0.121624</td>\n",
              "      <td>1.046240</td>\n",
              "      <td>0.000000</td>\n",
              "      <td>9</td>\n",
              "      <td>0</td>\n",
              "      <td>0</td>\n",
              "    </tr>\n",
              "    <tr>\n",
              "      <th>3</th>\n",
              "      <td>-0.473234</td>\n",
              "      <td>1</td>\n",
              "      <td>-1.362354</td>\n",
              "      <td>0</td>\n",
              "      <td>0</td>\n",
              "      <td>21984.47061</td>\n",
              "      <td>0</td>\n",
              "      <td>1</td>\n",
              "      <td>0</td>\n",
              "      <td>0</td>\n",
              "      <td>...</td>\n",
              "      <td>1</td>\n",
              "      <td>-1.362354</td>\n",
              "      <td>0</td>\n",
              "      <td>0</td>\n",
              "      <td>1.856008</td>\n",
              "      <td>-0.000000</td>\n",
              "      <td>-0.000000</td>\n",
              "      <td>0</td>\n",
              "      <td>0</td>\n",
              "      <td>0</td>\n",
              "    </tr>\n",
              "    <tr>\n",
              "      <th>4</th>\n",
              "      <td>-0.543404</td>\n",
              "      <td>1</td>\n",
              "      <td>-0.336026</td>\n",
              "      <td>0</td>\n",
              "      <td>0</td>\n",
              "      <td>3866.85520</td>\n",
              "      <td>0</td>\n",
              "      <td>1</td>\n",
              "      <td>0</td>\n",
              "      <td>0</td>\n",
              "      <td>...</td>\n",
              "      <td>1</td>\n",
              "      <td>-0.336026</td>\n",
              "      <td>0</td>\n",
              "      <td>0</td>\n",
              "      <td>0.112913</td>\n",
              "      <td>-0.000000</td>\n",
              "      <td>-0.000000</td>\n",
              "      <td>0</td>\n",
              "      <td>0</td>\n",
              "      <td>0</td>\n",
              "    </tr>\n",
              "  </tbody>\n",
              "</table>\n",
              "<p>5 rows × 25 columns</p>\n",
              "</div>\n",
              "      <button class=\"colab-df-convert\" onclick=\"convertToInteractive('df-6e6a26f3-3cd0-4dca-b57a-2ee58778112b')\"\n",
              "              title=\"Convert this dataframe to an interactive table.\"\n",
              "              style=\"display:none;\">\n",
              "        \n",
              "  <svg xmlns=\"http://www.w3.org/2000/svg\" height=\"24px\"viewBox=\"0 0 24 24\"\n",
              "       width=\"24px\">\n",
              "    <path d=\"M0 0h24v24H0V0z\" fill=\"none\"/>\n",
              "    <path d=\"M18.56 5.44l.94 2.06.94-2.06 2.06-.94-2.06-.94-.94-2.06-.94 2.06-2.06.94zm-11 1L8.5 8.5l.94-2.06 2.06-.94-2.06-.94L8.5 2.5l-.94 2.06-2.06.94zm10 10l.94 2.06.94-2.06 2.06-.94-2.06-.94-.94-2.06-.94 2.06-2.06.94z\"/><path d=\"M17.41 7.96l-1.37-1.37c-.4-.4-.92-.59-1.43-.59-.52 0-1.04.2-1.43.59L10.3 9.45l-7.72 7.72c-.78.78-.78 2.05 0 2.83L4 21.41c.39.39.9.59 1.41.59.51 0 1.02-.2 1.41-.59l7.78-7.78 2.81-2.81c.8-.78.8-2.07 0-2.86zM5.41 20L4 18.59l7.72-7.72 1.47 1.35L5.41 20z\"/>\n",
              "  </svg>\n",
              "      </button>\n",
              "      \n",
              "  <style>\n",
              "    .colab-df-container {\n",
              "      display:flex;\n",
              "      flex-wrap:wrap;\n",
              "      gap: 12px;\n",
              "    }\n",
              "\n",
              "    .colab-df-convert {\n",
              "      background-color: #E8F0FE;\n",
              "      border: none;\n",
              "      border-radius: 50%;\n",
              "      cursor: pointer;\n",
              "      display: none;\n",
              "      fill: #1967D2;\n",
              "      height: 32px;\n",
              "      padding: 0 0 0 0;\n",
              "      width: 32px;\n",
              "    }\n",
              "\n",
              "    .colab-df-convert:hover {\n",
              "      background-color: #E2EBFA;\n",
              "      box-shadow: 0px 1px 2px rgba(60, 64, 67, 0.3), 0px 1px 3px 1px rgba(60, 64, 67, 0.15);\n",
              "      fill: #174EA6;\n",
              "    }\n",
              "\n",
              "    [theme=dark] .colab-df-convert {\n",
              "      background-color: #3B4455;\n",
              "      fill: #D2E3FC;\n",
              "    }\n",
              "\n",
              "    [theme=dark] .colab-df-convert:hover {\n",
              "      background-color: #434B5C;\n",
              "      box-shadow: 0px 1px 3px 1px rgba(0, 0, 0, 0.15);\n",
              "      filter: drop-shadow(0px 1px 2px rgba(0, 0, 0, 0.3));\n",
              "      fill: #FFFFFF;\n",
              "    }\n",
              "  </style>\n",
              "\n",
              "      <script>\n",
              "        const buttonEl =\n",
              "          document.querySelector('#df-6e6a26f3-3cd0-4dca-b57a-2ee58778112b button.colab-df-convert');\n",
              "        buttonEl.style.display =\n",
              "          google.colab.kernel.accessAllowed ? 'block' : 'none';\n",
              "\n",
              "        async function convertToInteractive(key) {\n",
              "          const element = document.querySelector('#df-6e6a26f3-3cd0-4dca-b57a-2ee58778112b');\n",
              "          const dataTable =\n",
              "            await google.colab.kernel.invokeFunction('convertToInteractive',\n",
              "                                                     [key], {});\n",
              "          if (!dataTable) return;\n",
              "\n",
              "          const docLinkHtml = 'Like what you see? Visit the ' +\n",
              "            '<a target=\"_blank\" href=https://colab.research.google.com/notebooks/data_table.ipynb>data table notebook</a>'\n",
              "            + ' to learn more about interactive tables.';\n",
              "          element.innerHTML = '';\n",
              "          dataTable['output_type'] = 'display_data';\n",
              "          await google.colab.output.renderOutput(dataTable, element);\n",
              "          const docLink = document.createElement('div');\n",
              "          docLink.innerHTML = docLinkHtml;\n",
              "          element.appendChild(docLink);\n",
              "        }\n",
              "      </script>\n",
              "    </div>\n",
              "  </div>\n",
              "  "
            ]
          },
          "metadata": {},
          "execution_count": 30
        }
      ]
    },
    {
      "cell_type": "code",
      "source": [
        "# Do not modify here\n",
        "x_train = df_train.drop(['charges'], axis=1)\n",
        "y_train = df_train['charges']\n",
        "\n",
        "x_val = df_val.drop(['charges'], axis=1)\n",
        "y_val = df_val['charges']\n",
        "\n",
        "x_test = df_test.drop(['charges'], axis=1)"
      ],
      "metadata": {
        "id": "Wub8hX9k_Ga2"
      },
      "execution_count": 31,
      "outputs": []
    },
    {
      "cell_type": "code",
      "source": [
        "# TODO\n",
        "# You may convert data to NumPy here \n",
        "x_train_np = x_train.to_numpy()\n",
        "y_train_np = y_train.to_numpy()\n",
        "x_val_np = x_val.to_numpy()\n",
        "y_val_np = y_val.to_numpy()\n",
        "x_test_np = x_test.to_numpy()"
      ],
      "metadata": {
        "id": "8hLk2UZU_RI9"
      },
      "execution_count": 32,
      "outputs": []
    },
    {
      "cell_type": "markdown",
      "source": [
        "# Train your own model and predict for testing data."
      ],
      "metadata": {
        "id": "mcyR-WJzxRsw"
      }
    },
    {
      "cell_type": "code",
      "source": [
        "batch_size = x_train_np.shape[0]\n",
        "\n",
        "# TODO\n",
        "# Tune the parameters\n",
        "# Refer to slide page 10\n",
        "lr = 0.001\n",
        "epochs = 500000\n",
        "\n",
        "linear_reg = LinearRegression()\n",
        "linear_reg.fit(x_train_np, y_train_np, lr=lr, epochs=epochs, batch_size=batch_size)\n",
        "print('\\ntraining loss: ', linear_reg.evaluate(x_train_np, y_train_np))\n",
        "print('val loss: ', linear_reg.evaluate(x_val_np, y_val_np))"
      ],
      "metadata": {
        "colab": {
          "base_uri": "https://localhost:8080/"
        },
        "id": "ZAg-Qur5u0rs",
        "outputId": "1a6f4aa3-c298-43b3-ab01-915365c2cd0f"
      },
      "execution_count": 33,
      "outputs": [
        {
          "output_type": "stream",
          "name": "stdout",
          "text": [
            "Don't cheat.\n"
          ]
        },
        {
          "output_type": "stream",
          "name": "stderr",
          "text": [
            "100%|██████████| 500000/500000 [00:32<00:00, 15178.54it/s]"
          ]
        },
        {
          "output_type": "stream",
          "name": "stdout",
          "text": [
            "\n",
            "training loss:  20840916.260915566\n",
            "val loss:  27559598.610503044\n"
          ]
        },
        {
          "output_type": "stream",
          "name": "stderr",
          "text": [
            "\n"
          ]
        }
      ]
    },
    {
      "cell_type": "code",
      "source": [
        "linear_reg.plot_curve()"
      ],
      "metadata": {
        "colab": {
          "base_uri": "https://localhost:8080/",
          "height": 290
        },
        "id": "H__U0eobrFYN",
        "outputId": "736ac078-efb6-40d8-d892-9bb10d8f190a"
      },
      "execution_count": 34,
      "outputs": [
        {
          "output_type": "display_data",
          "data": {
            "text/plain": [
              "<Figure size 432x288 with 1 Axes>"
            ],
            "image/png": "[encoded data removed]"
          },
          "metadata": {
            "needs_background": "light"
          }
        }
      ]
    },
    {
      "cell_type": "code",
      "source": [
        "m, n = x_test_np.shape\n",
        "x_test_new = np.hstack([x_test_np, np.ones((m, 1))])\n",
        "test_pred = linear_reg.predict(x_test_new)\n",
        "print(\"test_pred shape: \", test_pred.shape)\n",
        "assert test_pred.shape == (200, 1)"
      ],
      "metadata": {
        "id": "x-Q1nUG6xZfM",
        "colab": {
          "base_uri": "https://localhost:8080/"
        },
        "outputId": "7e8d3b12-093b-41aa-e5ca-df7d6e9cbd34"
      },
      "execution_count": 35,
      "outputs": [
        {
          "output_type": "stream",
          "name": "stdout",
          "text": [
            "test_pred shape:  (200, 1)\n"
          ]
        }
      ]
    },
    {
      "cell_type": "markdown",
      "metadata": {
        "id": "QCeukZcenm6O"
      },
      "source": [
        "# Output the csv file"
      ]
    },
    {
      "cell_type": "code",
      "execution_count": 36,
      "metadata": {
        "id": "SEN7NUgmnm6O"
      },
      "outputs": [],
      "source": [
        "df_test = pd.DataFrame(pd.read_csv(\"/content/drive/MyDrive/Pattern_Recognition/hw1/regression_test.csv\"))\n",
        "df_test[\"charges\"] = test_pred\n",
        "df_test.to_csv(\"/content/drive/MyDrive/Pattern_Recognition/hw1/311553030_prediction.csv\")"
      ]
    }
  ],
  "metadata": {
    "kernelspec": {
      "display_name": "Python 3",
      "language": "python",
      "name": "python3"
    },
    "language_info": {
      "codemirror_mode": {
        "name": "ipython",
        "version": 3
      },
      "file_extension": ".py",
      "mimetype": "text/x-python",
      "name": "python",
      "nbconvert_exporter": "python",
      "pygments_lexer": "ipython3",
      "version": "3.9.6"
    },
    "orig_nbformat": 4,
    "vscode": {
      "interpreter": {
        "hash": "31f2aee4e71d21fbe5cf8b01ff0e069b9275f58929596ceb00d14d90e3e16cd6"
      }
    },
    "colab": {
      "provenance": [],
      "collapsed_sections": [
        "06GOWhKRNzaz",
        "vE0LqmRdnm6B",
        "OJj42I-0nm6F",
        "el3_fUSVnm6K",
        "aX3rf7QFUWM7",
        "Aku1MjDAdEXn"
      ],
      "toc_visible": true
    }
  },
  "nbformat": 4,
  "nbformat_minor": 0
}